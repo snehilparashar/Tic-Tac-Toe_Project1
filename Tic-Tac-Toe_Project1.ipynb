{
 "cells": [
  {
   "cell_type": "code",
   "execution_count": 1,
   "id": "9d0ab40f-5b77-4aef-b9b7-fc68f3597e6d",
   "metadata": {},
   "outputs": [],
   "source": [
    "#Here we are making a two player Tic-Tac_toe Board with full explanation\n",
    "from IPython.display import clear_output  #**only works in the jupiter lab notebook**\n",
    "\n",
    "# This function helps us to clear the older result as soon as a new input is being made\n",
    "def display_board(board):\n",
    "    clear_output()\n",
    "    # The first functions defined as display board is where all the inputs will be displayed\n",
    "    print(board[7] + ' | ' + board[8] + ' | ' + board[9])\n",
    "    print('--|---|--')\n",
    "    print(board[4] + ' | ' + board[5] + ' | ' + board[6])\n",
    "    print('--|---|--')\n",
    "    print(board[1] + ' | ' + board[2] + ' | ' + board[3])"
   ]
  },
  {
   "cell_type": "code",
   "execution_count": 6,
   "id": "8f9631fb-6805-4c01-94c7-44f668533f61",
   "metadata": {},
   "outputs": [],
   "source": [
    "#Once the board structure is defined we will test the functionality of the board using a testboard\n",
    "test_board = [' ','X','X',' ',' ',' ',' ',' ',' ',' ',]"
   ]
  },
  {
   "cell_type": "code",
   "execution_count": 7,
   "id": "ec5e2506-85f7-4db4-bca0-a6aee578999a",
   "metadata": {},
   "outputs": [
    {
     "name": "stdout",
     "output_type": "stream",
     "text": [
      "  |   |  \n",
      "--|---|--\n",
      "  |   |  \n",
      "--|---|--\n",
      "X | X |  \n"
     ]
    }
   ],
   "source": [
    "display_board(test_board)\n",
    "#Here index position 4 is able to display $ in the board"
   ]
  },
  {
   "cell_type": "code",
   "execution_count": 8,
   "id": "ff9c515b-fb6c-4e53-ac69-a3370597e280",
   "metadata": {
    "tags": []
   },
   "outputs": [],
   "source": [
    "#Now we will define a funtions to ask the player to choose the input they will have to enter\n",
    "def player_input(): \n",
    "    \n",
    "    #Here we define a variable as 'marker'\n",
    "    \n",
    "    marker = ' ' #initialy we assume the marker to be blank string\n",
    "    \n",
    "    while marker != 'O' and marker != 'X':\n",
    "        marker = input('Please choose a input from X or 0')\n",
    "        \n",
    "    player1 = marker #Here we will assign the marker to the player1\n",
    "    \n",
    "    #Now let us pu a condition to what happens if the player chooses any of the marker X or O\n",
    "    if player1 == 'X':\n",
    "        player2 = 'O' #Here the player2 variable is defined and that is why '==' is not used\n",
    "    else:\n",
    "        player2 = 'X'\n",
    "    \n",
    "    return (player1,player2)"
   ]
  },
  {
   "cell_type": "code",
   "execution_count": 9,
   "id": "d62af434-95fd-4849-bb48-54ca1c5991c8",
   "metadata": {
    "tags": []
   },
   "outputs": [
    {
     "name": "stdin",
     "output_type": "stream",
     "text": [
      "Please choose a input from X or 0 X\n"
     ]
    },
    {
     "data": {
      "text/plain": [
       "'O'"
      ]
     },
     "execution_count": 9,
     "metadata": {},
     "output_type": "execute_result"
    }
   ],
   "source": [
    "#The output here is asked as a tupel and then tupel unpacking is done\n",
    "player1_marker, player2_marker = player_input()\n",
    "player2_marker "
   ]
  },
  {
   "cell_type": "code",
   "execution_count": 9,
   "id": "b555235a-3f84-4c30-8303-5e7bf7054f09",
   "metadata": {},
   "outputs": [],
   "source": [
    "#In the first two steps we have defined how the board will look and like and what are the options the player has"
   ]
  },
  {
   "cell_type": "code",
   "execution_count": 11,
   "id": "481e0661-cbd9-43c4-842e-28bc239fb90d",
   "metadata": {},
   "outputs": [],
   "source": [
    "#Now we will define what would be the change that would be brought in the board and at what position\n",
    "def place_marker(board,marker,position):\n",
    "    \n",
    "    #Here a new variable is defined as position which is actually the index position where the change would be made\n",
    "    board[position] = marker"
   ]
  },
  {
   "cell_type": "code",
   "execution_count": 12,
   "id": "0922944b-3659-49ce-83e5-8adfbf122f1b",
   "metadata": {},
   "outputs": [
    {
     "name": "stdout",
     "output_type": "stream",
     "text": [
      "  |   |  \n",
      "--|---|--\n",
      "  | S |  \n",
      "--|---|--\n",
      "X | X |  \n"
     ]
    }
   ],
   "source": [
    "#Sample test: Here we check if the above function is working or not\n",
    "place_marker(test_board,'S',5)\n",
    "display_board(test_board) \n",
    "#If you see properly the position 5 in the board has been replaced by 'S'"
   ]
  },
  {
   "cell_type": "code",
   "execution_count": 13,
   "id": "85cff679-92c2-423c-b27f-4613028f8236",
   "metadata": {},
   "outputs": [],
   "source": [
    "#Next up we will define the condition at which the Tic-Tac-Toe game is won\n",
    "\n",
    "def win_check(board,mark): #Here a new variable is defined just to check the entries made at the board\n",
    "    #All row check\n",
    "    return((board[1] == board[2] == board[3] == mark) or\n",
    "    (board[4] == board[5] == board[6] == mark) or\n",
    "    (board[7] == board[8] == board[9] == mark) or\n",
    "    #All column \n",
    "    (board[1] == board[4] == board[7] == mark) or\n",
    "    (board[2] == board[5] == board[8] == mark) or\n",
    "    (board[3] == board[6] == board[9] == mark) or\n",
    "    #All digonal\n",
    "    (board[1] == board[5] == board[9] == mark) or\n",
    "    (board[3] == board[5] == board[7] == mark))"
   ]
  },
  {
   "cell_type": "code",
   "execution_count": 14,
   "id": "6dc01caa-e257-4b41-83c9-5c3745748f45",
   "metadata": {},
   "outputs": [
    {
     "data": {
      "text/plain": [
       "False"
      ]
     },
     "execution_count": 14,
     "metadata": {},
     "output_type": "execute_result"
    }
   ],
   "source": [
    "#Test: Here for the marker X we check wether that is working or not\n",
    "win_check(test_board,'X')"
   ]
  },
  {
   "cell_type": "code",
   "execution_count": 28,
   "id": "c529b9e3-d341-49ae-a139-edaf2976d068",
   "metadata": {},
   "outputs": [],
   "source": [
    "#Now we shall define which of the player would be going first\n",
    "#Here we shall import other funtions as random that will choose randomly for any given input"
   ]
  },
  {
   "cell_type": "code",
   "execution_count": 15,
   "id": "2c97c316-2633-414d-bcd1-1ca7a55a4000",
   "metadata": {},
   "outputs": [],
   "source": [
    "import random\n",
    "\n",
    "def choose_first(): \n",
    "    #Here we will define a function as player choice which will instruct the code to tell who first\n",
    "    if random.randint(0, 1) == 0:\n",
    "        return 'Player 2'\n",
    "    else:\n",
    "        return 'Player 1'"
   ]
  },
  {
   "cell_type": "code",
   "execution_count": 20,
   "id": "c92eeb61-76d4-460b-8174-79b14668dc2a",
   "metadata": {},
   "outputs": [
    {
     "data": {
      "text/plain": [
       "'Player 1'"
      ]
     },
     "execution_count": 20,
     "metadata": {},
     "output_type": "execute_result"
    }
   ],
   "source": [
    "choose_first()"
   ]
  },
  {
   "cell_type": "code",
   "execution_count": 69,
   "id": "91b2e783-81bb-41cf-b6a2-292bfcecb2e8",
   "metadata": {},
   "outputs": [],
   "source": [
    "#Up untill now we have defined all board, input , where to place, win condtion and now who goes first"
   ]
  },
  {
   "cell_type": "code",
   "execution_count": 70,
   "id": "1be19069-3885-4179-9c6f-9f914095a10e",
   "metadata": {},
   "outputs": [],
   "source": [
    "#Now we shall define certain conditions where the board shall have an empty place or the board is full condition"
   ]
  },
  {
   "cell_type": "code",
   "execution_count": 21,
   "id": "4bcfa552-e0bf-4092-88e3-ae32ada0b9e8",
   "metadata": {},
   "outputs": [],
   "source": [
    "def space_check(board,position):\n",
    "    \n",
    "    return board[position] == ' '\n",
    "#This means if we give in any position and the space is present this would give us True otherwise false"
   ]
  },
  {
   "cell_type": "code",
   "execution_count": 74,
   "id": "19062f2e-5e5b-4db2-b24c-1b38583e204a",
   "metadata": {},
   "outputs": [],
   "source": [
    "#Now we shall define the condition to check wether the board is full or not"
   ]
  },
  {
   "cell_type": "code",
   "execution_count": 22,
   "id": "4175fe2f-2e87-4a91-b7c5-5b76547bc28c",
   "metadata": {},
   "outputs": [],
   "source": [
    "def full_board_check(board):\n",
    "    \n",
    "    for i in range(1,10):  #We have assumed it to be any position i in the board \n",
    "        if space_check(board,i): #Here we use the function defined above to check for the position i if it is empty\n",
    "            return False #if the position i is empty then board not full and we ask for result False\n",
    "    return True #otherwise return True that means board is full"
   ]
  },
  {
   "cell_type": "code",
   "execution_count": 23,
   "id": "bf7eca9a-ef73-475f-bf56-4a22090dba91",
   "metadata": {},
   "outputs": [],
   "source": [
    "#Now we have to ask the player for their position and then we need to see if that position in the board is free or not \n",
    "#If that position is free we replace the place with marker"
   ]
  },
  {
   "cell_type": "code",
   "execution_count": 24,
   "id": "e99a1f03-3b2f-4862-a5e3-32bb3287c311",
   "metadata": {},
   "outputs": [],
   "source": [
    "def player_choice(board):\n",
    "    \n",
    "    #Now we define a variable as Position and make it empty string\n",
    "    position = 0\n",
    "    \n",
    "    while position not in [1,2,3,4,5,6,7,8,9] or not space_check(board, position):\n",
    "        position = int(input('Choose your next position: (1-9) '))\n",
    "    \n",
    "    return position"
   ]
  },
  {
   "cell_type": "code",
   "execution_count": 79,
   "id": "83203b48-e3bd-4c31-9214-d04aaeab4a6d",
   "metadata": {},
   "outputs": [],
   "source": [
    "#All the game setup steps are complete"
   ]
  },
  {
   "cell_type": "code",
   "execution_count": 80,
   "id": "c395ce09-77d6-4e49-99e1-e0a8876b7037",
   "metadata": {},
   "outputs": [],
   "source": [
    "#Now we just need to ask if they want to replay the game or not"
   ]
  },
  {
   "cell_type": "code",
   "execution_count": 25,
   "id": "6c525608-c809-4a0b-9924-e02b239c7c05",
   "metadata": {},
   "outputs": [],
   "source": [
    "def replay():\n",
    "    \n",
    "    choice = input('Please enter Yes or No:')\n",
    "    \n",
    "    return choice == 'Yes'"
   ]
  },
  {
   "cell_type": "code",
   "execution_count": 84,
   "id": "63ff6621-3529-482a-a093-1786567dd3a3",
   "metadata": {},
   "outputs": [],
   "source": [
    "#Now it's the final setup time for the code \n",
    "#Here we will put all the defined funtions in the given order of Display, choose first, choose marker and then choose input"
   ]
  },
  {
   "cell_type": "code",
   "execution_count": 26,
   "id": "f37e8de0-8309-49f5-85b9-49ad0b6e1146",
   "metadata": {},
   "outputs": [
    {
     "name": "stdout",
     "output_type": "stream",
     "text": [
      "O |   |  \n",
      "--|---|--\n",
      "O | X |  \n",
      "--|---|--\n",
      "O | X |  \n",
      "Player2 has won the game!!\n"
     ]
    },
    {
     "name": "stdin",
     "output_type": "stream",
     "text": [
      "Please enter Yes or No: No\n"
     ]
    }
   ],
   "source": [
    "print('Welcome to the Tic-Tac-Toe')\n",
    "\n",
    "while True:\n",
    "    \n",
    "    #the new board that shall be used\n",
    "    the_new_board = [' ']*10\n",
    "    player1_marker , player2_marker = player_input()\n",
    "    \n",
    "    #Now we will decide which player will go first\n",
    "    #turn is the new variable assigned\n",
    "    turn = choose_first()\n",
    "    \n",
    "    print(turn + ' will go first.')\n",
    "    \n",
    "    #Now we need to ask wether the player is ready to play or not\n",
    "    \n",
    "    play_game = input('Are you ready to Play!! Enter Yes or No:')\n",
    "    \n",
    "    if play_game == 'Yes':\n",
    "        game_on = True\n",
    "    else:\n",
    "        game_on = False\n",
    "   \n",
    "    #From here gameplay will be defined\n",
    "    \n",
    "    while game_on:\n",
    "        \n",
    "        if turn == 'Player1': \n",
    "            #Let us suppose that the 1st randomly choosen turn is of Player1\n",
    "            #We will display the existing board\n",
    "            display_board(the_new_board)\n",
    "            #Now using player_choice function we will ask for player to give us a position of choice\n",
    "            #this new position will not also be in range but also be empty using space_check function\n",
    "            position = player_choice(the_new_board)\n",
    "            #Now we shall place the same on the boarad using the marker assigned to player1\n",
    "            place_marker(the_new_board,player1_marker,position)\n",
    "            \n",
    "            #We will check wether the player has won or not\n",
    "            \n",
    "            if win_check(the_new_board,player1_marker):\n",
    "                #This function will check for all the possibilities of Win\n",
    "                display_board(the_new_board)\n",
    "                #If any saisfied the game shall be declared as win\n",
    "                print('Player1 has won the game!!')\n",
    "                game_on = False\n",
    "                \n",
    "                #If not then it shall check for if there is a possibility of the full board\n",
    "            else:\n",
    "                if full_board_check(the_new_board):\n",
    "                    #If Yes then the game will declared a tie!!!\n",
    "                    display_board(the_new_board)\n",
    "                    print('The game has resulted in a Tie!!')\n",
    "                    break\n",
    "                    #If both the above situations are not satisfied then the turn shall be passed on to Player2\n",
    "                else:\n",
    "                    turn = 'Player2'          \n",
    "        else:\n",
    "            #And the same process will be repeated for the player2 till no one wins\n",
    "            display_board(the_new_board)\n",
    "            position = player_choice(the_new_board)\n",
    "            place_marker(the_new_board,player2_marker,position)\n",
    "            \n",
    "            if win_check(the_new_board,player2_marker):\n",
    "                display_board(the_new_board)\n",
    "                print('Player2 has won the game!!')\n",
    "                game_on = False\n",
    "            else:\n",
    "                if full_board_check(the_new_board):\n",
    "                    display_board(the_new_board)\n",
    "                    print('The game has ended in a Tie!!')\n",
    "                    break\n",
    "                else:\n",
    "                    turn = 'Player1'\n",
    "                                \n",
    "    if not replay():\n",
    "        break\n",
    "    \n",
    "    "
   ]
  },
  {
   "cell_type": "code",
   "execution_count": null,
   "id": "2b9daba7-a307-4132-8179-6de9870c8e3a",
   "metadata": {},
   "outputs": [],
   "source": []
  }
 ],
 "metadata": {
  "kernelspec": {
   "display_name": "Python 3",
   "language": "python",
   "name": "python3"
  },
  "language_info": {
   "codemirror_mode": {
    "name": "ipython",
    "version": 3
   },
   "file_extension": ".py",
   "mimetype": "text/x-python",
   "name": "python",
   "nbconvert_exporter": "python",
   "pygments_lexer": "ipython3",
   "version": "3.8.8"
  }
 },
 "nbformat": 4,
 "nbformat_minor": 5
}
